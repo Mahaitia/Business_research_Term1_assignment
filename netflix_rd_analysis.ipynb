{
 "cells": [
  {
   "cell_type": "code",
   "execution_count": 10,
   "id": "af05abfe",
   "metadata": {},
   "outputs": [],
   "source": [
    "import pandas as pd\n",
    "import numpy as np\n",
    "import matplotlib.pyplot as plt\n",
    "import seaborn as sns\n",
    "from scipy.stats import linregress"
   ]
  },
  {
   "cell_type": "code",
   "execution_count": 3,
   "id": "14d19e4d",
   "metadata": {},
   "outputs": [],
   "source": [
    "# Charger les données\n",
    "data = pd.read_csv('data.csv')"
   ]
  },
  {
   "cell_type": "code",
   "execution_count": 4,
   "id": "180be30d",
   "metadata": {},
   "outputs": [
    {
     "data": {
      "text/html": [
       "<div>\n",
       "<style scoped>\n",
       "    .dataframe tbody tr th:only-of-type {\n",
       "        vertical-align: middle;\n",
       "    }\n",
       "\n",
       "    .dataframe tbody tr th {\n",
       "        vertical-align: top;\n",
       "    }\n",
       "\n",
       "    .dataframe thead th {\n",
       "        text-align: right;\n",
       "    }\n",
       "</style>\n",
       "<table border=\"1\" class=\"dataframe\">\n",
       "  <thead>\n",
       "    <tr style=\"text-align: right;\">\n",
       "      <th></th>\n",
       "      <th>date</th>\n",
       "      <th>revenue</th>\n",
       "      <th>rd_spending</th>\n",
       "    </tr>\n",
       "  </thead>\n",
       "  <tbody>\n",
       "    <tr>\n",
       "      <th>0</th>\n",
       "      <td>9/30/2024</td>\n",
       "      <td>9825</td>\n",
       "      <td>735</td>\n",
       "    </tr>\n",
       "    <tr>\n",
       "      <th>1</th>\n",
       "      <td>6/30/2024</td>\n",
       "      <td>9559</td>\n",
       "      <td>711</td>\n",
       "    </tr>\n",
       "    <tr>\n",
       "      <th>2</th>\n",
       "      <td>3/31/2024</td>\n",
       "      <td>9370</td>\n",
       "      <td>702</td>\n",
       "    </tr>\n",
       "    <tr>\n",
       "      <th>3</th>\n",
       "      <td>12/31/2023</td>\n",
       "      <td>8833</td>\n",
       "      <td>673</td>\n",
       "    </tr>\n",
       "    <tr>\n",
       "      <th>4</th>\n",
       "      <td>9/30/2023</td>\n",
       "      <td>8542</td>\n",
       "      <td>657</td>\n",
       "    </tr>\n",
       "  </tbody>\n",
       "</table>\n",
       "</div>"
      ],
      "text/plain": [
       "         date  revenue  rd_spending\n",
       "0   9/30/2024     9825          735\n",
       "1   6/30/2024     9559          711\n",
       "2   3/31/2024     9370          702\n",
       "3  12/31/2023     8833          673\n",
       "4   9/30/2023     8542          657"
      ]
     },
     "execution_count": 4,
     "metadata": {},
     "output_type": "execute_result"
    }
   ],
   "source": [
    "# Afficher les premières lignes pour vérifier le contenu\n",
    "data.head()"
   ]
  },
  {
   "cell_type": "code",
   "execution_count": 5,
   "id": "92666f82",
   "metadata": {},
   "outputs": [],
   "source": [
    "# Calculer la corrélation entre deux colonnes\n",
    "correlation = data['revenue'].corr(data['rd_spending'])"
   ]
  },
  {
   "cell_type": "code",
   "execution_count": 6,
   "id": "b8a16fae",
   "metadata": {},
   "outputs": [
    {
     "name": "stdout",
     "output_type": "stream",
     "text": [
      "The correlation coefficient between revenue and rd_spending is: 0.9916817951315008\n"
     ]
    }
   ],
   "source": [
    "print(f\"The correlation coefficient between revenue and rd_spending is: {correlation}\")"
   ]
  },
  {
   "cell_type": "code",
   "execution_count": 7,
   "id": "0c867e43",
   "metadata": {},
   "outputs": [
    {
     "data": {
      "image/png": "[encoded data removed]",
      "text/plain": [
       "<Figure size 360x360 with 1 Axes>"
      ]
     },
     "metadata": {
      "needs_background": "light"
     },
     "output_type": "display_data"
    }
   ],
   "source": [
    "# Nuage de points avec une ligne de régression\n",
    "sns.lmplot(x='revenue', y='rd_spending', data=data, ci=None)\n",
    "plt.title(\"Correlation between Revenue & RD_spending\")\n",
    "plt.xlabel(\"Revenue\")\n",
    "plt.ylabel(\"RD_spending\")\n",
    "plt.show()"
   ]
  },
  {
   "cell_type": "code",
   "execution_count": 11,
   "id": "bd5d7b7a",
   "metadata": {},
   "outputs": [
    {
     "name": "stdout",
     "output_type": "stream",
     "text": [
      "Slope (a): 12.79\n",
      "Intercept (b): -64.20\n"
     ]
    }
   ],
   "source": [
    "# Means of the variables\n",
    "x_mean = data['rd_spending'].mean()\n",
    "y_mean = data['revenue'].mean()\n",
    "\n",
    "# Calculate slope (a)\n",
    "numerator = np.sum((data['rd_spending'] - x_mean) * (data['revenue'] - y_mean))\n",
    "denominator = np.sum((data['rd_spending'] - x_mean) ** 2)\n",
    "a = numerator / denominator  # Slope\n",
    "\n",
    "# Calculate intercept (b)\n",
    "b = y_mean - a * x_mean  # Intercept\n",
    "\n",
    "print(f\"Slope (a): {a:.2f}\")\n",
    "print(f\"Intercept (b): {b:.2f}\")"
   ]
  },
  {
   "cell_type": "code",
   "execution_count": 12,
   "id": "a99e1cf1",
   "metadata": {},
   "outputs": [
    {
     "name": "stdout",
     "output_type": "stream",
     "text": [
      "Scipy Slope (a): 12.79\n",
      "Scipy Intercept (b): -64.20\n"
     ]
    }
   ],
   "source": [
    "slope, intercept, r_value, p_value, std_err = linregress(data['rd_spending'], data['revenue'])\n",
    "\n",
    "print(f\"Scipy Slope (a): {slope:.2f}\")\n",
    "print(f\"Scipy Intercept (b): {intercept:.2f}\")"
   ]
  },
  {
   "cell_type": "code",
   "execution_count": 13,
   "id": "4c8b3b62",
   "metadata": {},
   "outputs": [
    {
     "data": {
      "image/png": "[encoded data removed]",
      "text/plain": [
       "<Figure size 432x288 with 1 Axes>"
      ]
     },
     "metadata": {
      "needs_background": "light"
     },
     "output_type": "display_data"
    }
   ],
   "source": [
    "# Regression line equation\n",
    "x = data['rd_spending']\n",
    "y_pred = a * x + b  # Predicted values of revenue\n",
    "\n",
    "# Plot\n",
    "plt.scatter(data['rd_spending'], data['revenue'], color='blue', label='Data Points')\n",
    "plt.plot(data['rd_spending'], y_pred, color='red', label=f\"y = {a:.2f}x + {b:.2f}\")\n",
    "plt.xlabel('R&D Spending')\n",
    "plt.ylabel('Revenue')\n",
    "plt.title('Linear Regression: R&D Spending vs Revenue')\n",
    "plt.legend()\n",
    "plt.show()\n"
   ]
  }
 ],
 "metadata": {
  "kernelspec": {
   "display_name": "Python 3",
   "language": "python",
   "name": "python3"
  },
  "language_info": {
   "codemirror_mode": {
    "name": "ipython",
    "version": 3
   },
   "file_extension": ".py",
   "mimetype": "text/x-python",
   "name": "python",
   "nbconvert_exporter": "python",
   "pygments_lexer": "ipython3",
   "version": "3.6.8"
  }
 },
 "nbformat": 4,
 "nbformat_minor": 5
}
